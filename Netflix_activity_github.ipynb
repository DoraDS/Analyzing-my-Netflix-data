{
  "nbformat": 4,
  "nbformat_minor": 0,
  "metadata": {
    "colab": {
      "provenance": []
    },
    "kernelspec": {
      "name": "python3",
      "display_name": "Python 3"
    },
    "language_info": {
      "name": "python"
    }
  },
  "cells": [
    {
      "cell_type": "markdown",
      "source": [
        "This project was inspired by the \"Analyse your own Netflix data\" workshop organized by Codecademy."
      ],
      "metadata": {
        "id": "rHvUaEdyLxRp"
      }
    },
    {
      "cell_type": "code",
      "source": [
        "# import neccessary libraries\n",
        "import pandas as pd\n",
        "import numpy as np\n",
        "import seaborn as sns\n",
        "import matplotlib.pyplot as plt"
      ],
      "metadata": {
        "id": "aRderKcIssqy"
      },
      "execution_count": 1,
      "outputs": []
    },
    {
      "cell_type": "markdown",
      "source": [
        "I will not be uploading my Netflix ViewingActivity.csv data to github but you can request your own Netflix ViewingActivity.csv on this link: https://www.netflix.com/account/getmyinfo . That way you can analyze your own data."
      ],
      "metadata": {
        "id": "eJK9c8jw-r4j"
      }
    },
    {
      "cell_type": "code",
      "source": [
        "# load in the data obtained from Netflix about your viewing activity\n",
        "df = pd.read_csv('ViewingActivity.csv')"
      ],
      "metadata": {
        "id": "fJR-ViYCtsus"
      },
      "execution_count": 2,
      "outputs": []
    },
    {
      "cell_type": "code",
      "source": [
        "df.head()"
      ],
      "metadata": {
        "colab": {
          "base_uri": "https://localhost:8080/",
          "height": 424
        },
        "id": "6kS8A9xOttyR",
        "outputId": "a1bae013-1764-4d7d-a546-321074b9eeaa"
      },
      "execution_count": 3,
      "outputs": [
        {
          "output_type": "execute_result",
          "data": {
            "text/plain": [
              "  Profile Name           Start Time  Duration  \\\n",
              "0         Dora  2022-11-03 12:22:42  00:08:22   \n",
              "1         Dora  2022-11-03 12:22:26  00:00:05   \n",
              "2         Dora  2022-11-03 11:10:56  00:00:55   \n",
              "3         Dora  2022-11-03 10:10:16  00:13:36   \n",
              "4         Dora  2022-11-02 17:11:14  00:06:42   \n",
              "\n",
              "                        Attributes                                      Title  \\\n",
              "0                              NaN  Titans: Season 2: Deathstroke (Episode 5)   \n",
              "1  Autoplayed: user action: None;     Sniper: Ultimate Kill_hook_primary_16x9   \n",
              "2                              NaN  Titans: Season 2: Deathstroke (Episode 5)   \n",
              "3                              NaN      Titans: Season 2: Aqualad (Episode 4)   \n",
              "4                              NaN      Titans: Season 2: Aqualad (Episode 4)   \n",
              "\n",
              "  Supplemental Video Type                   Device Type  Bookmark  \\\n",
              "0                     NaN  Edge OSS - Windows (Cadmium)  00:10:18   \n",
              "1                    HOOK  Edge OSS - Windows (Cadmium)  00:00:05   \n",
              "2                     NaN  Edge OSS - Windows (Cadmium)  00:01:58   \n",
              "3                     NaN               iPad Air 2 WiFi  00:40:54   \n",
              "4                     NaN  Edge OSS - Windows (Cadmium)  00:27:18   \n",
              "\n",
              "   Latest Bookmark              Country  \n",
              "0         00:10:18  GB (United Kingdom)  \n",
              "1         00:00:05  GB (United Kingdom)  \n",
              "2  Not latest view  GB (United Kingdom)  \n",
              "3         00:40:54  GB (United Kingdom)  \n",
              "4  Not latest view  GB (United Kingdom)  "
            ],
            "text/html": [
              "\n",
              "  <div id=\"df-633cc589-18f5-4b76-8c49-d96a990aa8be\">\n",
              "    <div class=\"colab-df-container\">\n",
              "      <div>\n",
              "<style scoped>\n",
              "    .dataframe tbody tr th:only-of-type {\n",
              "        vertical-align: middle;\n",
              "    }\n",
              "\n",
              "    .dataframe tbody tr th {\n",
              "        vertical-align: top;\n",
              "    }\n",
              "\n",
              "    .dataframe thead th {\n",
              "        text-align: right;\n",
              "    }\n",
              "</style>\n",
              "<table border=\"1\" class=\"dataframe\">\n",
              "  <thead>\n",
              "    <tr style=\"text-align: right;\">\n",
              "      <th></th>\n",
              "      <th>Profile Name</th>\n",
              "      <th>Start Time</th>\n",
              "      <th>Duration</th>\n",
              "      <th>Attributes</th>\n",
              "      <th>Title</th>\n",
              "      <th>Supplemental Video Type</th>\n",
              "      <th>Device Type</th>\n",
              "      <th>Bookmark</th>\n",
              "      <th>Latest Bookmark</th>\n",
              "      <th>Country</th>\n",
              "    </tr>\n",
              "  </thead>\n",
              "  <tbody>\n",
              "    <tr>\n",
              "      <th>0</th>\n",
              "      <td>Dora</td>\n",
              "      <td>2022-11-03 12:22:42</td>\n",
              "      <td>00:08:22</td>\n",
              "      <td>NaN</td>\n",
              "      <td>Titans: Season 2: Deathstroke (Episode 5)</td>\n",
              "      <td>NaN</td>\n",
              "      <td>Edge OSS - Windows (Cadmium)</td>\n",
              "      <td>00:10:18</td>\n",
              "      <td>00:10:18</td>\n",
              "      <td>GB (United Kingdom)</td>\n",
              "    </tr>\n",
              "    <tr>\n",
              "      <th>1</th>\n",
              "      <td>Dora</td>\n",
              "      <td>2022-11-03 12:22:26</td>\n",
              "      <td>00:00:05</td>\n",
              "      <td>Autoplayed: user action: None;</td>\n",
              "      <td>Sniper: Ultimate Kill_hook_primary_16x9</td>\n",
              "      <td>HOOK</td>\n",
              "      <td>Edge OSS - Windows (Cadmium)</td>\n",
              "      <td>00:00:05</td>\n",
              "      <td>00:00:05</td>\n",
              "      <td>GB (United Kingdom)</td>\n",
              "    </tr>\n",
              "    <tr>\n",
              "      <th>2</th>\n",
              "      <td>Dora</td>\n",
              "      <td>2022-11-03 11:10:56</td>\n",
              "      <td>00:00:55</td>\n",
              "      <td>NaN</td>\n",
              "      <td>Titans: Season 2: Deathstroke (Episode 5)</td>\n",
              "      <td>NaN</td>\n",
              "      <td>Edge OSS - Windows (Cadmium)</td>\n",
              "      <td>00:01:58</td>\n",
              "      <td>Not latest view</td>\n",
              "      <td>GB (United Kingdom)</td>\n",
              "    </tr>\n",
              "    <tr>\n",
              "      <th>3</th>\n",
              "      <td>Dora</td>\n",
              "      <td>2022-11-03 10:10:16</td>\n",
              "      <td>00:13:36</td>\n",
              "      <td>NaN</td>\n",
              "      <td>Titans: Season 2: Aqualad (Episode 4)</td>\n",
              "      <td>NaN</td>\n",
              "      <td>iPad Air 2 WiFi</td>\n",
              "      <td>00:40:54</td>\n",
              "      <td>00:40:54</td>\n",
              "      <td>GB (United Kingdom)</td>\n",
              "    </tr>\n",
              "    <tr>\n",
              "      <th>4</th>\n",
              "      <td>Dora</td>\n",
              "      <td>2022-11-02 17:11:14</td>\n",
              "      <td>00:06:42</td>\n",
              "      <td>NaN</td>\n",
              "      <td>Titans: Season 2: Aqualad (Episode 4)</td>\n",
              "      <td>NaN</td>\n",
              "      <td>Edge OSS - Windows (Cadmium)</td>\n",
              "      <td>00:27:18</td>\n",
              "      <td>Not latest view</td>\n",
              "      <td>GB (United Kingdom)</td>\n",
              "    </tr>\n",
              "  </tbody>\n",
              "</table>\n",
              "</div>\n",
              "      <button class=\"colab-df-convert\" onclick=\"convertToInteractive('df-633cc589-18f5-4b76-8c49-d96a990aa8be')\"\n",
              "              title=\"Convert this dataframe to an interactive table.\"\n",
              "              style=\"display:none;\">\n",
              "        \n",
              "  <svg xmlns=\"http://www.w3.org/2000/svg\" height=\"24px\"viewBox=\"0 0 24 24\"\n",
              "       width=\"24px\">\n",
              "    <path d=\"M0 0h24v24H0V0z\" fill=\"none\"/>\n",
              "    <path d=\"M18.56 5.44l.94 2.06.94-2.06 2.06-.94-2.06-.94-.94-2.06-.94 2.06-2.06.94zm-11 1L8.5 8.5l.94-2.06 2.06-.94-2.06-.94L8.5 2.5l-.94 2.06-2.06.94zm10 10l.94 2.06.94-2.06 2.06-.94-2.06-.94-.94-2.06-.94 2.06-2.06.94z\"/><path d=\"M17.41 7.96l-1.37-1.37c-.4-.4-.92-.59-1.43-.59-.52 0-1.04.2-1.43.59L10.3 9.45l-7.72 7.72c-.78.78-.78 2.05 0 2.83L4 21.41c.39.39.9.59 1.41.59.51 0 1.02-.2 1.41-.59l7.78-7.78 2.81-2.81c.8-.78.8-2.07 0-2.86zM5.41 20L4 18.59l7.72-7.72 1.47 1.35L5.41 20z\"/>\n",
              "  </svg>\n",
              "      </button>\n",
              "      \n",
              "  <style>\n",
              "    .colab-df-container {\n",
              "      display:flex;\n",
              "      flex-wrap:wrap;\n",
              "      gap: 12px;\n",
              "    }\n",
              "\n",
              "    .colab-df-convert {\n",
              "      background-color: #E8F0FE;\n",
              "      border: none;\n",
              "      border-radius: 50%;\n",
              "      cursor: pointer;\n",
              "      display: none;\n",
              "      fill: #1967D2;\n",
              "      height: 32px;\n",
              "      padding: 0 0 0 0;\n",
              "      width: 32px;\n",
              "    }\n",
              "\n",
              "    .colab-df-convert:hover {\n",
              "      background-color: #E2EBFA;\n",
              "      box-shadow: 0px 1px 2px rgba(60, 64, 67, 0.3), 0px 1px 3px 1px rgba(60, 64, 67, 0.15);\n",
              "      fill: #174EA6;\n",
              "    }\n",
              "\n",
              "    [theme=dark] .colab-df-convert {\n",
              "      background-color: #3B4455;\n",
              "      fill: #D2E3FC;\n",
              "    }\n",
              "\n",
              "    [theme=dark] .colab-df-convert:hover {\n",
              "      background-color: #434B5C;\n",
              "      box-shadow: 0px 1px 3px 1px rgba(0, 0, 0, 0.15);\n",
              "      filter: drop-shadow(0px 1px 2px rgba(0, 0, 0, 0.3));\n",
              "      fill: #FFFFFF;\n",
              "    }\n",
              "  </style>\n",
              "\n",
              "      <script>\n",
              "        const buttonEl =\n",
              "          document.querySelector('#df-633cc589-18f5-4b76-8c49-d96a990aa8be button.colab-df-convert');\n",
              "        buttonEl.style.display =\n",
              "          google.colab.kernel.accessAllowed ? 'block' : 'none';\n",
              "\n",
              "        async function convertToInteractive(key) {\n",
              "          const element = document.querySelector('#df-633cc589-18f5-4b76-8c49-d96a990aa8be');\n",
              "          const dataTable =\n",
              "            await google.colab.kernel.invokeFunction('convertToInteractive',\n",
              "                                                     [key], {});\n",
              "          if (!dataTable) return;\n",
              "\n",
              "          const docLinkHtml = 'Like what you see? Visit the ' +\n",
              "            '<a target=\"_blank\" href=https://colab.research.google.com/notebooks/data_table.ipynb>data table notebook</a>'\n",
              "            + ' to learn more about interactive tables.';\n",
              "          element.innerHTML = '';\n",
              "          dataTable['output_type'] = 'display_data';\n",
              "          await google.colab.output.renderOutput(dataTable, element);\n",
              "          const docLink = document.createElement('div');\n",
              "          docLink.innerHTML = docLinkHtml;\n",
              "          element.appendChild(docLink);\n",
              "        }\n",
              "      </script>\n",
              "    </div>\n",
              "  </div>\n",
              "  "
            ]
          },
          "metadata": {},
          "execution_count": 3
        }
      ]
    },
    {
      "cell_type": "code",
      "source": [
        "df.shape"
      ],
      "metadata": {
        "colab": {
          "base_uri": "https://localhost:8080/"
        },
        "id": "LAsjSLqjhz2H",
        "outputId": "1379bf68-8c3c-4c72-8be2-80653864f48f"
      },
      "execution_count": 4,
      "outputs": [
        {
          "output_type": "execute_result",
          "data": {
            "text/plain": [
              "(10934, 10)"
            ]
          },
          "metadata": {},
          "execution_count": 4
        }
      ]
    },
    {
      "cell_type": "code",
      "source": [
        "# renaming the columns\n",
        "df.columns = ['name', 'start', 'duration', 'attrs', 'title', 'svt', 'device', 'bookmark', 'latestbookmark', 'country'] "
      ],
      "metadata": {
        "id": "9ubSuzeRuCYC"
      },
      "execution_count": 5,
      "outputs": []
    },
    {
      "cell_type": "code",
      "source": [
        "# selecting my Netflix profile\n",
        "df = df[df.name == 'Dora']"
      ],
      "metadata": {
        "id": "QU6BA0jguC_7"
      },
      "execution_count": 6,
      "outputs": []
    },
    {
      "cell_type": "code",
      "source": [
        "df.head()"
      ],
      "metadata": {
        "colab": {
          "base_uri": "https://localhost:8080/",
          "height": 406
        },
        "id": "6rfHU8BcuHqM",
        "outputId": "14e63267-cf8a-41fa-8504-f83e9a39efb5"
      },
      "execution_count": 7,
      "outputs": [
        {
          "output_type": "execute_result",
          "data": {
            "text/plain": [
              "   name                start  duration                            attrs  \\\n",
              "0  Dora  2022-11-03 12:22:42  00:08:22                              NaN   \n",
              "1  Dora  2022-11-03 12:22:26  00:00:05  Autoplayed: user action: None;    \n",
              "2  Dora  2022-11-03 11:10:56  00:00:55                              NaN   \n",
              "3  Dora  2022-11-03 10:10:16  00:13:36                              NaN   \n",
              "4  Dora  2022-11-02 17:11:14  00:06:42                              NaN   \n",
              "\n",
              "                                       title   svt  \\\n",
              "0  Titans: Season 2: Deathstroke (Episode 5)   NaN   \n",
              "1    Sniper: Ultimate Kill_hook_primary_16x9  HOOK   \n",
              "2  Titans: Season 2: Deathstroke (Episode 5)   NaN   \n",
              "3      Titans: Season 2: Aqualad (Episode 4)   NaN   \n",
              "4      Titans: Season 2: Aqualad (Episode 4)   NaN   \n",
              "\n",
              "                         device  bookmark   latestbookmark  \\\n",
              "0  Edge OSS - Windows (Cadmium)  00:10:18         00:10:18   \n",
              "1  Edge OSS - Windows (Cadmium)  00:00:05         00:00:05   \n",
              "2  Edge OSS - Windows (Cadmium)  00:01:58  Not latest view   \n",
              "3               iPad Air 2 WiFi  00:40:54         00:40:54   \n",
              "4  Edge OSS - Windows (Cadmium)  00:27:18  Not latest view   \n",
              "\n",
              "               country  \n",
              "0  GB (United Kingdom)  \n",
              "1  GB (United Kingdom)  \n",
              "2  GB (United Kingdom)  \n",
              "3  GB (United Kingdom)  \n",
              "4  GB (United Kingdom)  "
            ],
            "text/html": [
              "\n",
              "  <div id=\"df-df3a6d93-53b1-4a2f-9806-255ac414c51d\">\n",
              "    <div class=\"colab-df-container\">\n",
              "      <div>\n",
              "<style scoped>\n",
              "    .dataframe tbody tr th:only-of-type {\n",
              "        vertical-align: middle;\n",
              "    }\n",
              "\n",
              "    .dataframe tbody tr th {\n",
              "        vertical-align: top;\n",
              "    }\n",
              "\n",
              "    .dataframe thead th {\n",
              "        text-align: right;\n",
              "    }\n",
              "</style>\n",
              "<table border=\"1\" class=\"dataframe\">\n",
              "  <thead>\n",
              "    <tr style=\"text-align: right;\">\n",
              "      <th></th>\n",
              "      <th>name</th>\n",
              "      <th>start</th>\n",
              "      <th>duration</th>\n",
              "      <th>attrs</th>\n",
              "      <th>title</th>\n",
              "      <th>svt</th>\n",
              "      <th>device</th>\n",
              "      <th>bookmark</th>\n",
              "      <th>latestbookmark</th>\n",
              "      <th>country</th>\n",
              "    </tr>\n",
              "  </thead>\n",
              "  <tbody>\n",
              "    <tr>\n",
              "      <th>0</th>\n",
              "      <td>Dora</td>\n",
              "      <td>2022-11-03 12:22:42</td>\n",
              "      <td>00:08:22</td>\n",
              "      <td>NaN</td>\n",
              "      <td>Titans: Season 2: Deathstroke (Episode 5)</td>\n",
              "      <td>NaN</td>\n",
              "      <td>Edge OSS - Windows (Cadmium)</td>\n",
              "      <td>00:10:18</td>\n",
              "      <td>00:10:18</td>\n",
              "      <td>GB (United Kingdom)</td>\n",
              "    </tr>\n",
              "    <tr>\n",
              "      <th>1</th>\n",
              "      <td>Dora</td>\n",
              "      <td>2022-11-03 12:22:26</td>\n",
              "      <td>00:00:05</td>\n",
              "      <td>Autoplayed: user action: None;</td>\n",
              "      <td>Sniper: Ultimate Kill_hook_primary_16x9</td>\n",
              "      <td>HOOK</td>\n",
              "      <td>Edge OSS - Windows (Cadmium)</td>\n",
              "      <td>00:00:05</td>\n",
              "      <td>00:00:05</td>\n",
              "      <td>GB (United Kingdom)</td>\n",
              "    </tr>\n",
              "    <tr>\n",
              "      <th>2</th>\n",
              "      <td>Dora</td>\n",
              "      <td>2022-11-03 11:10:56</td>\n",
              "      <td>00:00:55</td>\n",
              "      <td>NaN</td>\n",
              "      <td>Titans: Season 2: Deathstroke (Episode 5)</td>\n",
              "      <td>NaN</td>\n",
              "      <td>Edge OSS - Windows (Cadmium)</td>\n",
              "      <td>00:01:58</td>\n",
              "      <td>Not latest view</td>\n",
              "      <td>GB (United Kingdom)</td>\n",
              "    </tr>\n",
              "    <tr>\n",
              "      <th>3</th>\n",
              "      <td>Dora</td>\n",
              "      <td>2022-11-03 10:10:16</td>\n",
              "      <td>00:13:36</td>\n",
              "      <td>NaN</td>\n",
              "      <td>Titans: Season 2: Aqualad (Episode 4)</td>\n",
              "      <td>NaN</td>\n",
              "      <td>iPad Air 2 WiFi</td>\n",
              "      <td>00:40:54</td>\n",
              "      <td>00:40:54</td>\n",
              "      <td>GB (United Kingdom)</td>\n",
              "    </tr>\n",
              "    <tr>\n",
              "      <th>4</th>\n",
              "      <td>Dora</td>\n",
              "      <td>2022-11-02 17:11:14</td>\n",
              "      <td>00:06:42</td>\n",
              "      <td>NaN</td>\n",
              "      <td>Titans: Season 2: Aqualad (Episode 4)</td>\n",
              "      <td>NaN</td>\n",
              "      <td>Edge OSS - Windows (Cadmium)</td>\n",
              "      <td>00:27:18</td>\n",
              "      <td>Not latest view</td>\n",
              "      <td>GB (United Kingdom)</td>\n",
              "    </tr>\n",
              "  </tbody>\n",
              "</table>\n",
              "</div>\n",
              "      <button class=\"colab-df-convert\" onclick=\"convertToInteractive('df-df3a6d93-53b1-4a2f-9806-255ac414c51d')\"\n",
              "              title=\"Convert this dataframe to an interactive table.\"\n",
              "              style=\"display:none;\">\n",
              "        \n",
              "  <svg xmlns=\"http://www.w3.org/2000/svg\" height=\"24px\"viewBox=\"0 0 24 24\"\n",
              "       width=\"24px\">\n",
              "    <path d=\"M0 0h24v24H0V0z\" fill=\"none\"/>\n",
              "    <path d=\"M18.56 5.44l.94 2.06.94-2.06 2.06-.94-2.06-.94-.94-2.06-.94 2.06-2.06.94zm-11 1L8.5 8.5l.94-2.06 2.06-.94-2.06-.94L8.5 2.5l-.94 2.06-2.06.94zm10 10l.94 2.06.94-2.06 2.06-.94-2.06-.94-.94-2.06-.94 2.06-2.06.94z\"/><path d=\"M17.41 7.96l-1.37-1.37c-.4-.4-.92-.59-1.43-.59-.52 0-1.04.2-1.43.59L10.3 9.45l-7.72 7.72c-.78.78-.78 2.05 0 2.83L4 21.41c.39.39.9.59 1.41.59.51 0 1.02-.2 1.41-.59l7.78-7.78 2.81-2.81c.8-.78.8-2.07 0-2.86zM5.41 20L4 18.59l7.72-7.72 1.47 1.35L5.41 20z\"/>\n",
              "  </svg>\n",
              "      </button>\n",
              "      \n",
              "  <style>\n",
              "    .colab-df-container {\n",
              "      display:flex;\n",
              "      flex-wrap:wrap;\n",
              "      gap: 12px;\n",
              "    }\n",
              "\n",
              "    .colab-df-convert {\n",
              "      background-color: #E8F0FE;\n",
              "      border: none;\n",
              "      border-radius: 50%;\n",
              "      cursor: pointer;\n",
              "      display: none;\n",
              "      fill: #1967D2;\n",
              "      height: 32px;\n",
              "      padding: 0 0 0 0;\n",
              "      width: 32px;\n",
              "    }\n",
              "\n",
              "    .colab-df-convert:hover {\n",
              "      background-color: #E2EBFA;\n",
              "      box-shadow: 0px 1px 2px rgba(60, 64, 67, 0.3), 0px 1px 3px 1px rgba(60, 64, 67, 0.15);\n",
              "      fill: #174EA6;\n",
              "    }\n",
              "\n",
              "    [theme=dark] .colab-df-convert {\n",
              "      background-color: #3B4455;\n",
              "      fill: #D2E3FC;\n",
              "    }\n",
              "\n",
              "    [theme=dark] .colab-df-convert:hover {\n",
              "      background-color: #434B5C;\n",
              "      box-shadow: 0px 1px 3px 1px rgba(0, 0, 0, 0.15);\n",
              "      filter: drop-shadow(0px 1px 2px rgba(0, 0, 0, 0.3));\n",
              "      fill: #FFFFFF;\n",
              "    }\n",
              "  </style>\n",
              "\n",
              "      <script>\n",
              "        const buttonEl =\n",
              "          document.querySelector('#df-df3a6d93-53b1-4a2f-9806-255ac414c51d button.colab-df-convert');\n",
              "        buttonEl.style.display =\n",
              "          google.colab.kernel.accessAllowed ? 'block' : 'none';\n",
              "\n",
              "        async function convertToInteractive(key) {\n",
              "          const element = document.querySelector('#df-df3a6d93-53b1-4a2f-9806-255ac414c51d');\n",
              "          const dataTable =\n",
              "            await google.colab.kernel.invokeFunction('convertToInteractive',\n",
              "                                                     [key], {});\n",
              "          if (!dataTable) return;\n",
              "\n",
              "          const docLinkHtml = 'Like what you see? Visit the ' +\n",
              "            '<a target=\"_blank\" href=https://colab.research.google.com/notebooks/data_table.ipynb>data table notebook</a>'\n",
              "            + ' to learn more about interactive tables.';\n",
              "          element.innerHTML = '';\n",
              "          dataTable['output_type'] = 'display_data';\n",
              "          await google.colab.output.renderOutput(dataTable, element);\n",
              "          const docLink = document.createElement('div');\n",
              "          docLink.innerHTML = docLinkHtml;\n",
              "          element.appendChild(docLink);\n",
              "        }\n",
              "      </script>\n",
              "    </div>\n",
              "  </div>\n",
              "  "
            ]
          },
          "metadata": {},
          "execution_count": 7
        }
      ]
    },
    {
      "cell_type": "code",
      "source": [
        "# dropping irrelevant columns \n",
        "df = df.drop(['name', 'attrs', 'svt', 'bookmark', 'latestbookmark', 'device', 'country'], axis=1)"
      ],
      "metadata": {
        "id": "xe4_LRRT2_XS"
      },
      "execution_count": 8,
      "outputs": []
    },
    {
      "cell_type": "code",
      "source": [
        "# determining missing values - no missing values\n",
        "df.info()"
      ],
      "metadata": {
        "colab": {
          "base_uri": "https://localhost:8080/"
        },
        "id": "zHao6I283IN5",
        "outputId": "6fc63e3c-5076-4f60-a18c-5ef0930e140e"
      },
      "execution_count": 9,
      "outputs": [
        {
          "output_type": "stream",
          "name": "stdout",
          "text": [
            "<class 'pandas.core.frame.DataFrame'>\n",
            "Int64Index: 5745 entries, 0 to 5744\n",
            "Data columns (total 3 columns):\n",
            " #   Column    Non-Null Count  Dtype \n",
            "---  ------    --------------  ----- \n",
            " 0   start     5745 non-null   object\n",
            " 1   duration  5745 non-null   object\n",
            " 2   title     5745 non-null   object\n",
            "dtypes: object(3)\n",
            "memory usage: 179.5+ KB\n"
          ]
        }
      ]
    },
    {
      "cell_type": "code",
      "source": [
        "# overview of the final dataset\n",
        "df.head()"
      ],
      "metadata": {
        "colab": {
          "base_uri": "https://localhost:8080/",
          "height": 206
        },
        "id": "nL62BkP83OcE",
        "outputId": "1fb3a638-7508-4354-92f0-3539c53d9552"
      },
      "execution_count": 10,
      "outputs": [
        {
          "output_type": "execute_result",
          "data": {
            "text/plain": [
              "                 start  duration                                      title\n",
              "0  2022-11-03 12:22:42  00:08:22  Titans: Season 2: Deathstroke (Episode 5)\n",
              "1  2022-11-03 12:22:26  00:00:05    Sniper: Ultimate Kill_hook_primary_16x9\n",
              "2  2022-11-03 11:10:56  00:00:55  Titans: Season 2: Deathstroke (Episode 5)\n",
              "3  2022-11-03 10:10:16  00:13:36      Titans: Season 2: Aqualad (Episode 4)\n",
              "4  2022-11-02 17:11:14  00:06:42      Titans: Season 2: Aqualad (Episode 4)"
            ],
            "text/html": [
              "\n",
              "  <div id=\"df-62d37dbb-2ebb-45af-8e43-8f71c812ac4e\">\n",
              "    <div class=\"colab-df-container\">\n",
              "      <div>\n",
              "<style scoped>\n",
              "    .dataframe tbody tr th:only-of-type {\n",
              "        vertical-align: middle;\n",
              "    }\n",
              "\n",
              "    .dataframe tbody tr th {\n",
              "        vertical-align: top;\n",
              "    }\n",
              "\n",
              "    .dataframe thead th {\n",
              "        text-align: right;\n",
              "    }\n",
              "</style>\n",
              "<table border=\"1\" class=\"dataframe\">\n",
              "  <thead>\n",
              "    <tr style=\"text-align: right;\">\n",
              "      <th></th>\n",
              "      <th>start</th>\n",
              "      <th>duration</th>\n",
              "      <th>title</th>\n",
              "    </tr>\n",
              "  </thead>\n",
              "  <tbody>\n",
              "    <tr>\n",
              "      <th>0</th>\n",
              "      <td>2022-11-03 12:22:42</td>\n",
              "      <td>00:08:22</td>\n",
              "      <td>Titans: Season 2: Deathstroke (Episode 5)</td>\n",
              "    </tr>\n",
              "    <tr>\n",
              "      <th>1</th>\n",
              "      <td>2022-11-03 12:22:26</td>\n",
              "      <td>00:00:05</td>\n",
              "      <td>Sniper: Ultimate Kill_hook_primary_16x9</td>\n",
              "    </tr>\n",
              "    <tr>\n",
              "      <th>2</th>\n",
              "      <td>2022-11-03 11:10:56</td>\n",
              "      <td>00:00:55</td>\n",
              "      <td>Titans: Season 2: Deathstroke (Episode 5)</td>\n",
              "    </tr>\n",
              "    <tr>\n",
              "      <th>3</th>\n",
              "      <td>2022-11-03 10:10:16</td>\n",
              "      <td>00:13:36</td>\n",
              "      <td>Titans: Season 2: Aqualad (Episode 4)</td>\n",
              "    </tr>\n",
              "    <tr>\n",
              "      <th>4</th>\n",
              "      <td>2022-11-02 17:11:14</td>\n",
              "      <td>00:06:42</td>\n",
              "      <td>Titans: Season 2: Aqualad (Episode 4)</td>\n",
              "    </tr>\n",
              "  </tbody>\n",
              "</table>\n",
              "</div>\n",
              "      <button class=\"colab-df-convert\" onclick=\"convertToInteractive('df-62d37dbb-2ebb-45af-8e43-8f71c812ac4e')\"\n",
              "              title=\"Convert this dataframe to an interactive table.\"\n",
              "              style=\"display:none;\">\n",
              "        \n",
              "  <svg xmlns=\"http://www.w3.org/2000/svg\" height=\"24px\"viewBox=\"0 0 24 24\"\n",
              "       width=\"24px\">\n",
              "    <path d=\"M0 0h24v24H0V0z\" fill=\"none\"/>\n",
              "    <path d=\"M18.56 5.44l.94 2.06.94-2.06 2.06-.94-2.06-.94-.94-2.06-.94 2.06-2.06.94zm-11 1L8.5 8.5l.94-2.06 2.06-.94-2.06-.94L8.5 2.5l-.94 2.06-2.06.94zm10 10l.94 2.06.94-2.06 2.06-.94-2.06-.94-.94-2.06-.94 2.06-2.06.94z\"/><path d=\"M17.41 7.96l-1.37-1.37c-.4-.4-.92-.59-1.43-.59-.52 0-1.04.2-1.43.59L10.3 9.45l-7.72 7.72c-.78.78-.78 2.05 0 2.83L4 21.41c.39.39.9.59 1.41.59.51 0 1.02-.2 1.41-.59l7.78-7.78 2.81-2.81c.8-.78.8-2.07 0-2.86zM5.41 20L4 18.59l7.72-7.72 1.47 1.35L5.41 20z\"/>\n",
              "  </svg>\n",
              "      </button>\n",
              "      \n",
              "  <style>\n",
              "    .colab-df-container {\n",
              "      display:flex;\n",
              "      flex-wrap:wrap;\n",
              "      gap: 12px;\n",
              "    }\n",
              "\n",
              "    .colab-df-convert {\n",
              "      background-color: #E8F0FE;\n",
              "      border: none;\n",
              "      border-radius: 50%;\n",
              "      cursor: pointer;\n",
              "      display: none;\n",
              "      fill: #1967D2;\n",
              "      height: 32px;\n",
              "      padding: 0 0 0 0;\n",
              "      width: 32px;\n",
              "    }\n",
              "\n",
              "    .colab-df-convert:hover {\n",
              "      background-color: #E2EBFA;\n",
              "      box-shadow: 0px 1px 2px rgba(60, 64, 67, 0.3), 0px 1px 3px 1px rgba(60, 64, 67, 0.15);\n",
              "      fill: #174EA6;\n",
              "    }\n",
              "\n",
              "    [theme=dark] .colab-df-convert {\n",
              "      background-color: #3B4455;\n",
              "      fill: #D2E3FC;\n",
              "    }\n",
              "\n",
              "    [theme=dark] .colab-df-convert:hover {\n",
              "      background-color: #434B5C;\n",
              "      box-shadow: 0px 1px 3px 1px rgba(0, 0, 0, 0.15);\n",
              "      filter: drop-shadow(0px 1px 2px rgba(0, 0, 0, 0.3));\n",
              "      fill: #FFFFFF;\n",
              "    }\n",
              "  </style>\n",
              "\n",
              "      <script>\n",
              "        const buttonEl =\n",
              "          document.querySelector('#df-62d37dbb-2ebb-45af-8e43-8f71c812ac4e button.colab-df-convert');\n",
              "        buttonEl.style.display =\n",
              "          google.colab.kernel.accessAllowed ? 'block' : 'none';\n",
              "\n",
              "        async function convertToInteractive(key) {\n",
              "          const element = document.querySelector('#df-62d37dbb-2ebb-45af-8e43-8f71c812ac4e');\n",
              "          const dataTable =\n",
              "            await google.colab.kernel.invokeFunction('convertToInteractive',\n",
              "                                                     [key], {});\n",
              "          if (!dataTable) return;\n",
              "\n",
              "          const docLinkHtml = 'Like what you see? Visit the ' +\n",
              "            '<a target=\"_blank\" href=https://colab.research.google.com/notebooks/data_table.ipynb>data table notebook</a>'\n",
              "            + ' to learn more about interactive tables.';\n",
              "          element.innerHTML = '';\n",
              "          dataTable['output_type'] = 'display_data';\n",
              "          await google.colab.output.renderOutput(dataTable, element);\n",
              "          const docLink = document.createElement('div');\n",
              "          docLink.innerHTML = docLinkHtml;\n",
              "          element.appendChild(docLink);\n",
              "        }\n",
              "      </script>\n",
              "    </div>\n",
              "  </div>\n",
              "  "
            ]
          },
          "metadata": {},
          "execution_count": 10
        }
      ]
    },
    {
      "cell_type": "code",
      "source": [
        "# looking at some data highlights\n",
        "df.describe()\n",
        "\n",
        "# the top result for title is \"Princess Mononoke\" which suggests that I watched this film the most\n",
        "# the top result for duration is 4 seconds\n",
        "  # this is not the actual watchtime - the actual watchtime will be the sum of duration (I rarely finish movies on Netflix in one go)"
      ],
      "metadata": {
        "colab": {
          "base_uri": "https://localhost:8080/",
          "height": 175
        },
        "id": "P4dk1Fv93Tj-",
        "outputId": "46e3d036-c47f-453e-a59e-671c69707fe7"
      },
      "execution_count": 12,
      "outputs": [
        {
          "output_type": "execute_result",
          "data": {
            "text/plain": [
              "                      start  duration              title\n",
              "count                  5745      5745               5745\n",
              "unique                 5736      1650               2139\n",
              "top     2022-02-02 13:26:04  00:00:04  Princess Mononoke\n",
              "freq                      2       158                 16"
            ],
            "text/html": [
              "\n",
              "  <div id=\"df-f088c296-fcce-4235-818e-c816dcd16166\">\n",
              "    <div class=\"colab-df-container\">\n",
              "      <div>\n",
              "<style scoped>\n",
              "    .dataframe tbody tr th:only-of-type {\n",
              "        vertical-align: middle;\n",
              "    }\n",
              "\n",
              "    .dataframe tbody tr th {\n",
              "        vertical-align: top;\n",
              "    }\n",
              "\n",
              "    .dataframe thead th {\n",
              "        text-align: right;\n",
              "    }\n",
              "</style>\n",
              "<table border=\"1\" class=\"dataframe\">\n",
              "  <thead>\n",
              "    <tr style=\"text-align: right;\">\n",
              "      <th></th>\n",
              "      <th>start</th>\n",
              "      <th>duration</th>\n",
              "      <th>title</th>\n",
              "    </tr>\n",
              "  </thead>\n",
              "  <tbody>\n",
              "    <tr>\n",
              "      <th>count</th>\n",
              "      <td>5745</td>\n",
              "      <td>5745</td>\n",
              "      <td>5745</td>\n",
              "    </tr>\n",
              "    <tr>\n",
              "      <th>unique</th>\n",
              "      <td>5736</td>\n",
              "      <td>1650</td>\n",
              "      <td>2139</td>\n",
              "    </tr>\n",
              "    <tr>\n",
              "      <th>top</th>\n",
              "      <td>2022-02-02 13:26:04</td>\n",
              "      <td>00:00:04</td>\n",
              "      <td>Princess Mononoke</td>\n",
              "    </tr>\n",
              "    <tr>\n",
              "      <th>freq</th>\n",
              "      <td>2</td>\n",
              "      <td>158</td>\n",
              "      <td>16</td>\n",
              "    </tr>\n",
              "  </tbody>\n",
              "</table>\n",
              "</div>\n",
              "      <button class=\"colab-df-convert\" onclick=\"convertToInteractive('df-f088c296-fcce-4235-818e-c816dcd16166')\"\n",
              "              title=\"Convert this dataframe to an interactive table.\"\n",
              "              style=\"display:none;\">\n",
              "        \n",
              "  <svg xmlns=\"http://www.w3.org/2000/svg\" height=\"24px\"viewBox=\"0 0 24 24\"\n",
              "       width=\"24px\">\n",
              "    <path d=\"M0 0h24v24H0V0z\" fill=\"none\"/>\n",
              "    <path d=\"M18.56 5.44l.94 2.06.94-2.06 2.06-.94-2.06-.94-.94-2.06-.94 2.06-2.06.94zm-11 1L8.5 8.5l.94-2.06 2.06-.94-2.06-.94L8.5 2.5l-.94 2.06-2.06.94zm10 10l.94 2.06.94-2.06 2.06-.94-2.06-.94-.94-2.06-.94 2.06-2.06.94z\"/><path d=\"M17.41 7.96l-1.37-1.37c-.4-.4-.92-.59-1.43-.59-.52 0-1.04.2-1.43.59L10.3 9.45l-7.72 7.72c-.78.78-.78 2.05 0 2.83L4 21.41c.39.39.9.59 1.41.59.51 0 1.02-.2 1.41-.59l7.78-7.78 2.81-2.81c.8-.78.8-2.07 0-2.86zM5.41 20L4 18.59l7.72-7.72 1.47 1.35L5.41 20z\"/>\n",
              "  </svg>\n",
              "      </button>\n",
              "      \n",
              "  <style>\n",
              "    .colab-df-container {\n",
              "      display:flex;\n",
              "      flex-wrap:wrap;\n",
              "      gap: 12px;\n",
              "    }\n",
              "\n",
              "    .colab-df-convert {\n",
              "      background-color: #E8F0FE;\n",
              "      border: none;\n",
              "      border-radius: 50%;\n",
              "      cursor: pointer;\n",
              "      display: none;\n",
              "      fill: #1967D2;\n",
              "      height: 32px;\n",
              "      padding: 0 0 0 0;\n",
              "      width: 32px;\n",
              "    }\n",
              "\n",
              "    .colab-df-convert:hover {\n",
              "      background-color: #E2EBFA;\n",
              "      box-shadow: 0px 1px 2px rgba(60, 64, 67, 0.3), 0px 1px 3px 1px rgba(60, 64, 67, 0.15);\n",
              "      fill: #174EA6;\n",
              "    }\n",
              "\n",
              "    [theme=dark] .colab-df-convert {\n",
              "      background-color: #3B4455;\n",
              "      fill: #D2E3FC;\n",
              "    }\n",
              "\n",
              "    [theme=dark] .colab-df-convert:hover {\n",
              "      background-color: #434B5C;\n",
              "      box-shadow: 0px 1px 3px 1px rgba(0, 0, 0, 0.15);\n",
              "      filter: drop-shadow(0px 1px 2px rgba(0, 0, 0, 0.3));\n",
              "      fill: #FFFFFF;\n",
              "    }\n",
              "  </style>\n",
              "\n",
              "      <script>\n",
              "        const buttonEl =\n",
              "          document.querySelector('#df-f088c296-fcce-4235-818e-c816dcd16166 button.colab-df-convert');\n",
              "        buttonEl.style.display =\n",
              "          google.colab.kernel.accessAllowed ? 'block' : 'none';\n",
              "\n",
              "        async function convertToInteractive(key) {\n",
              "          const element = document.querySelector('#df-f088c296-fcce-4235-818e-c816dcd16166');\n",
              "          const dataTable =\n",
              "            await google.colab.kernel.invokeFunction('convertToInteractive',\n",
              "                                                     [key], {});\n",
              "          if (!dataTable) return;\n",
              "\n",
              "          const docLinkHtml = 'Like what you see? Visit the ' +\n",
              "            '<a target=\"_blank\" href=https://colab.research.google.com/notebooks/data_table.ipynb>data table notebook</a>'\n",
              "            + ' to learn more about interactive tables.';\n",
              "          element.innerHTML = '';\n",
              "          dataTable['output_type'] = 'display_data';\n",
              "          await google.colab.output.renderOutput(dataTable, element);\n",
              "          const docLink = document.createElement('div');\n",
              "          docLink.innerHTML = docLinkHtml;\n",
              "          element.appendChild(docLink);\n",
              "        }\n",
              "      </script>\n",
              "    </div>\n",
              "  </div>\n",
              "  "
            ]
          },
          "metadata": {},
          "execution_count": 12
        }
      ]
    },
    {
      "cell_type": "markdown",
      "source": [
        "Determining the top 5 most rewatched titles"
      ],
      "metadata": {
        "id": "QPHTnJnd5FWp"
      }
    },
    {
      "cell_type": "code",
      "source": [
        "# value_counts() counts unique values (in this case it counts unique values in the column title)\n",
        "# using .head() means that we will be looking only at the top 5 re-watched titles\n",
        "toptitles = df.title.value_counts().head()"
      ],
      "metadata": {
        "id": "FMPITx3Vu49h"
      },
      "execution_count": 13,
      "outputs": []
    },
    {
      "cell_type": "code",
      "source": [
        "# the titles form the index of the newly created toptitles series\n",
        "# the count of occurence of the title forms the value of the toptitles series\n",
        "toptitles"
      ],
      "metadata": {
        "colab": {
          "base_uri": "https://localhost:8080/"
        },
        "id": "8RIsZnNp6N4C",
        "outputId": "6cc595e5-4f6c-40ac-d9e0-b6bcaf5cbafb"
      },
      "execution_count": 14,
      "outputs": [
        {
          "output_type": "execute_result",
          "data": {
            "text/plain": [
              "Princess Mononoke                16\n",
              "The Boss Baby: Get That Baby!    15\n",
              "Headspace: Unwind Your Mind      13\n",
              "Fear Street Part 3: 1666         13\n",
              "Tales from Earthsea              13\n",
              "Name: title, dtype: int64"
            ]
          },
          "metadata": {},
          "execution_count": 14
        }
      ]
    },
    {
      "cell_type": "code",
      "source": [
        "# creating a new dataframe that contains the unique titles and the count of times the title has been watched\n",
        "topdf = pd.DataFrame({'titles': toptitles.index, 'counts': toptitles.values})"
      ],
      "metadata": {
        "id": "HwsnKUwIv7HW"
      },
      "execution_count": 15,
      "outputs": []
    },
    {
      "cell_type": "code",
      "source": [
        "# showing the top 5 titles that I have watched the most number of times\n",
        "topdf.head()"
      ],
      "metadata": {
        "colab": {
          "base_uri": "https://localhost:8080/",
          "height": 206
        },
        "id": "DEO0qmQJ0kG5",
        "outputId": "1f44c1de-f942-47da-99e8-df30b3d6f30a"
      },
      "execution_count": 66,
      "outputs": [
        {
          "output_type": "execute_result",
          "data": {
            "text/plain": [
              "                          titles  counts\n",
              "0              Princess Mononoke      16\n",
              "1  The Boss Baby: Get That Baby!      15\n",
              "2    Headspace: Unwind Your Mind      13\n",
              "3       Fear Street Part 3: 1666      13\n",
              "4            Tales from Earthsea      13"
            ],
            "text/html": [
              "\n",
              "  <div id=\"df-91c8cf15-775a-42fa-beb1-5599ee606904\">\n",
              "    <div class=\"colab-df-container\">\n",
              "      <div>\n",
              "<style scoped>\n",
              "    .dataframe tbody tr th:only-of-type {\n",
              "        vertical-align: middle;\n",
              "    }\n",
              "\n",
              "    .dataframe tbody tr th {\n",
              "        vertical-align: top;\n",
              "    }\n",
              "\n",
              "    .dataframe thead th {\n",
              "        text-align: right;\n",
              "    }\n",
              "</style>\n",
              "<table border=\"1\" class=\"dataframe\">\n",
              "  <thead>\n",
              "    <tr style=\"text-align: right;\">\n",
              "      <th></th>\n",
              "      <th>titles</th>\n",
              "      <th>counts</th>\n",
              "    </tr>\n",
              "  </thead>\n",
              "  <tbody>\n",
              "    <tr>\n",
              "      <th>0</th>\n",
              "      <td>Princess Mononoke</td>\n",
              "      <td>16</td>\n",
              "    </tr>\n",
              "    <tr>\n",
              "      <th>1</th>\n",
              "      <td>The Boss Baby: Get That Baby!</td>\n",
              "      <td>15</td>\n",
              "    </tr>\n",
              "    <tr>\n",
              "      <th>2</th>\n",
              "      <td>Headspace: Unwind Your Mind</td>\n",
              "      <td>13</td>\n",
              "    </tr>\n",
              "    <tr>\n",
              "      <th>3</th>\n",
              "      <td>Fear Street Part 3: 1666</td>\n",
              "      <td>13</td>\n",
              "    </tr>\n",
              "    <tr>\n",
              "      <th>4</th>\n",
              "      <td>Tales from Earthsea</td>\n",
              "      <td>13</td>\n",
              "    </tr>\n",
              "  </tbody>\n",
              "</table>\n",
              "</div>\n",
              "      <button class=\"colab-df-convert\" onclick=\"convertToInteractive('df-91c8cf15-775a-42fa-beb1-5599ee606904')\"\n",
              "              title=\"Convert this dataframe to an interactive table.\"\n",
              "              style=\"display:none;\">\n",
              "        \n",
              "  <svg xmlns=\"http://www.w3.org/2000/svg\" height=\"24px\"viewBox=\"0 0 24 24\"\n",
              "       width=\"24px\">\n",
              "    <path d=\"M0 0h24v24H0V0z\" fill=\"none\"/>\n",
              "    <path d=\"M18.56 5.44l.94 2.06.94-2.06 2.06-.94-2.06-.94-.94-2.06-.94 2.06-2.06.94zm-11 1L8.5 8.5l.94-2.06 2.06-.94-2.06-.94L8.5 2.5l-.94 2.06-2.06.94zm10 10l.94 2.06.94-2.06 2.06-.94-2.06-.94-.94-2.06-.94 2.06-2.06.94z\"/><path d=\"M17.41 7.96l-1.37-1.37c-.4-.4-.92-.59-1.43-.59-.52 0-1.04.2-1.43.59L10.3 9.45l-7.72 7.72c-.78.78-.78 2.05 0 2.83L4 21.41c.39.39.9.59 1.41.59.51 0 1.02-.2 1.41-.59l7.78-7.78 2.81-2.81c.8-.78.8-2.07 0-2.86zM5.41 20L4 18.59l7.72-7.72 1.47 1.35L5.41 20z\"/>\n",
              "  </svg>\n",
              "      </button>\n",
              "      \n",
              "  <style>\n",
              "    .colab-df-container {\n",
              "      display:flex;\n",
              "      flex-wrap:wrap;\n",
              "      gap: 12px;\n",
              "    }\n",
              "\n",
              "    .colab-df-convert {\n",
              "      background-color: #E8F0FE;\n",
              "      border: none;\n",
              "      border-radius: 50%;\n",
              "      cursor: pointer;\n",
              "      display: none;\n",
              "      fill: #1967D2;\n",
              "      height: 32px;\n",
              "      padding: 0 0 0 0;\n",
              "      width: 32px;\n",
              "    }\n",
              "\n",
              "    .colab-df-convert:hover {\n",
              "      background-color: #E2EBFA;\n",
              "      box-shadow: 0px 1px 2px rgba(60, 64, 67, 0.3), 0px 1px 3px 1px rgba(60, 64, 67, 0.15);\n",
              "      fill: #174EA6;\n",
              "    }\n",
              "\n",
              "    [theme=dark] .colab-df-convert {\n",
              "      background-color: #3B4455;\n",
              "      fill: #D2E3FC;\n",
              "    }\n",
              "\n",
              "    [theme=dark] .colab-df-convert:hover {\n",
              "      background-color: #434B5C;\n",
              "      box-shadow: 0px 1px 3px 1px rgba(0, 0, 0, 0.15);\n",
              "      filter: drop-shadow(0px 1px 2px rgba(0, 0, 0, 0.3));\n",
              "      fill: #FFFFFF;\n",
              "    }\n",
              "  </style>\n",
              "\n",
              "      <script>\n",
              "        const buttonEl =\n",
              "          document.querySelector('#df-91c8cf15-775a-42fa-beb1-5599ee606904 button.colab-df-convert');\n",
              "        buttonEl.style.display =\n",
              "          google.colab.kernel.accessAllowed ? 'block' : 'none';\n",
              "\n",
              "        async function convertToInteractive(key) {\n",
              "          const element = document.querySelector('#df-91c8cf15-775a-42fa-beb1-5599ee606904');\n",
              "          const dataTable =\n",
              "            await google.colab.kernel.invokeFunction('convertToInteractive',\n",
              "                                                     [key], {});\n",
              "          if (!dataTable) return;\n",
              "\n",
              "          const docLinkHtml = 'Like what you see? Visit the ' +\n",
              "            '<a target=\"_blank\" href=https://colab.research.google.com/notebooks/data_table.ipynb>data table notebook</a>'\n",
              "            + ' to learn more about interactive tables.';\n",
              "          element.innerHTML = '';\n",
              "          dataTable['output_type'] = 'display_data';\n",
              "          await google.colab.output.renderOutput(dataTable, element);\n",
              "          const docLink = document.createElement('div');\n",
              "          docLink.innerHTML = docLinkHtml;\n",
              "          element.appendChild(docLink);\n",
              "        }\n",
              "      </script>\n",
              "    </div>\n",
              "  </div>\n",
              "  "
            ]
          },
          "metadata": {},
          "execution_count": 66
        }
      ]
    },
    {
      "cell_type": "code",
      "source": [
        "# visualizing the top 5 titles I have watched the most number of times\n",
        "sns.set_style('darkgrid')\n",
        "plt.figure(figsize=(25, 8))\n",
        "sns.set_context('notebook', font_scale = 1, rc = {'grid.linewidth':2}) \n",
        "\n",
        "x = topdf.titles\n",
        "y = topdf.counts\n",
        "\n",
        "plt.bar(x, y, color=['black', 'green', 'maroon', 'blue', 'purple'])\n",
        "# colours you can directly access within matplotlib: aqua, black, blue, fuchsia, gray, green, lime, maroon, navy, olive, purple, red, silver, teal, white, yellow \n",
        "\n",
        "plt.ylabel('Times watched')\n",
        "plt.xlabel('Title')\n",
        "plt.title('Top 5 rewatched films')\n",
        "plt.xticks(topdf.titles, rotation = 3)\n",
        "\n",
        "plt.show()\n",
        "plt.clf()"
      ],
      "metadata": {
        "colab": {
          "base_uri": "https://localhost:8080/",
          "height": 410
        },
        "id": "2U1qJE8Z0wpW",
        "outputId": "e125571c-0755-410a-c8a1-1c6e6efbd8ec"
      },
      "execution_count": 17,
      "outputs": [
        {
          "output_type": "display_data",
          "data": {
            "text/plain": [
              "<Figure size 1800x576 with 1 Axes>"
            ],
            "image/png": "[encoded data removed]"
          },
          "metadata": {}
        },
        {
          "output_type": "display_data",
          "data": {
            "text/plain": [
              "<Figure size 432x288 with 0 Axes>"
            ]
          },
          "metadata": {}
        }
      ]
    },
    {
      "cell_type": "markdown",
      "source": [
        "Creating a function that automates the determination of most rewatched titles"
      ],
      "metadata": {
        "id": "I0bdVMftAzNK"
      }
    },
    {
      "cell_type": "code",
      "source": [
        "# defining a function that returns a dataframe of the top X values (films or individual series episodes)\n",
        "\n",
        "def top_titles(dataframe):\n",
        "  try:\n",
        "    toptitles = dataframe.title.value_counts().head(int(input('Choose a number of top results: ')))\n",
        "    topdf = pd.DataFrame({'titles': toptitles.index, 'counts': toptitles.values})\n",
        "    # creating a column called rank to assign ranks based on the number of times the title was rewatched (counts)\n",
        "    # setting the rank() method to dense assures that titles that have been rewatched the same number of times get the same rank\n",
        "    topdf['rank'] = topdf['counts'].rank(method='dense', ascending=False)\n",
        "\n",
        "    return topdf\n",
        "  except:\n",
        "    ValueError\n",
        "    print('You need to enter an integer')"
      ],
      "metadata": {
        "id": "T59A2bvVPUzz"
      },
      "execution_count": 74,
      "outputs": []
    },
    {
      "cell_type": "code",
      "source": [
        "# testing the function\n",
        "top_titles(df)"
      ],
      "metadata": {
        "colab": {
          "base_uri": "https://localhost:8080/",
          "height": 412
        },
        "id": "Zj4gwxuUPZPI",
        "outputId": "3f40d67a-1951-4f9e-e50e-d178f020346f"
      },
      "execution_count": 75,
      "outputs": [
        {
          "name": "stdout",
          "output_type": "stream",
          "text": [
            "Choose a number of top results: 11\n"
          ]
        },
        {
          "output_type": "execute_result",
          "data": {
            "text/plain": [
              "                                               titles  counts  rank\n",
              "0                                   Princess Mononoke      16   1.0\n",
              "1                       The Boss Baby: Get That Baby!      15   2.0\n",
              "2                         Headspace: Unwind Your Mind      13   3.0\n",
              "3                            Fear Street Part 3: 1666      13   3.0\n",
              "4                                 Tales from Earthsea      13   3.0\n",
              "5   Queer Eye: Season 4: A Tale of Two Cultures (E...      12   4.0\n",
              "6   Queer Eye: Season 1: Saving Sasquatch (Episode 2)      12   4.0\n",
              "7    Parks and Recreation: Season 1_hook_primary_16x9      12   4.0\n",
              "8   Riverdale: Season 6: Chapter One Hundred and F...      11   5.0\n",
              "9        Lucifer: Season 5: Family Dinner (Episode 9)      11   5.0\n",
              "10  RuPaul's Drag Race: Season 10: Reunited (Episo...      11   5.0"
            ],
            "text/html": [
              "\n",
              "  <div id=\"df-086278d4-a2d2-4e7d-9022-3ee68e38e07d\">\n",
              "    <div class=\"colab-df-container\">\n",
              "      <div>\n",
              "<style scoped>\n",
              "    .dataframe tbody tr th:only-of-type {\n",
              "        vertical-align: middle;\n",
              "    }\n",
              "\n",
              "    .dataframe tbody tr th {\n",
              "        vertical-align: top;\n",
              "    }\n",
              "\n",
              "    .dataframe thead th {\n",
              "        text-align: right;\n",
              "    }\n",
              "</style>\n",
              "<table border=\"1\" class=\"dataframe\">\n",
              "  <thead>\n",
              "    <tr style=\"text-align: right;\">\n",
              "      <th></th>\n",
              "      <th>titles</th>\n",
              "      <th>counts</th>\n",
              "      <th>rank</th>\n",
              "    </tr>\n",
              "  </thead>\n",
              "  <tbody>\n",
              "    <tr>\n",
              "      <th>0</th>\n",
              "      <td>Princess Mononoke</td>\n",
              "      <td>16</td>\n",
              "      <td>1.0</td>\n",
              "    </tr>\n",
              "    <tr>\n",
              "      <th>1</th>\n",
              "      <td>The Boss Baby: Get That Baby!</td>\n",
              "      <td>15</td>\n",
              "      <td>2.0</td>\n",
              "    </tr>\n",
              "    <tr>\n",
              "      <th>2</th>\n",
              "      <td>Headspace: Unwind Your Mind</td>\n",
              "      <td>13</td>\n",
              "      <td>3.0</td>\n",
              "    </tr>\n",
              "    <tr>\n",
              "      <th>3</th>\n",
              "      <td>Fear Street Part 3: 1666</td>\n",
              "      <td>13</td>\n",
              "      <td>3.0</td>\n",
              "    </tr>\n",
              "    <tr>\n",
              "      <th>4</th>\n",
              "      <td>Tales from Earthsea</td>\n",
              "      <td>13</td>\n",
              "      <td>3.0</td>\n",
              "    </tr>\n",
              "    <tr>\n",
              "      <th>5</th>\n",
              "      <td>Queer Eye: Season 4: A Tale of Two Cultures (E...</td>\n",
              "      <td>12</td>\n",
              "      <td>4.0</td>\n",
              "    </tr>\n",
              "    <tr>\n",
              "      <th>6</th>\n",
              "      <td>Queer Eye: Season 1: Saving Sasquatch (Episode 2)</td>\n",
              "      <td>12</td>\n",
              "      <td>4.0</td>\n",
              "    </tr>\n",
              "    <tr>\n",
              "      <th>7</th>\n",
              "      <td>Parks and Recreation: Season 1_hook_primary_16x9</td>\n",
              "      <td>12</td>\n",
              "      <td>4.0</td>\n",
              "    </tr>\n",
              "    <tr>\n",
              "      <th>8</th>\n",
              "      <td>Riverdale: Season 6: Chapter One Hundred and F...</td>\n",
              "      <td>11</td>\n",
              "      <td>5.0</td>\n",
              "    </tr>\n",
              "    <tr>\n",
              "      <th>9</th>\n",
              "      <td>Lucifer: Season 5: Family Dinner (Episode 9)</td>\n",
              "      <td>11</td>\n",
              "      <td>5.0</td>\n",
              "    </tr>\n",
              "    <tr>\n",
              "      <th>10</th>\n",
              "      <td>RuPaul's Drag Race: Season 10: Reunited (Episo...</td>\n",
              "      <td>11</td>\n",
              "      <td>5.0</td>\n",
              "    </tr>\n",
              "  </tbody>\n",
              "</table>\n",
              "</div>\n",
              "      <button class=\"colab-df-convert\" onclick=\"convertToInteractive('df-086278d4-a2d2-4e7d-9022-3ee68e38e07d')\"\n",
              "              title=\"Convert this dataframe to an interactive table.\"\n",
              "              style=\"display:none;\">\n",
              "        \n",
              "  <svg xmlns=\"http://www.w3.org/2000/svg\" height=\"24px\"viewBox=\"0 0 24 24\"\n",
              "       width=\"24px\">\n",
              "    <path d=\"M0 0h24v24H0V0z\" fill=\"none\"/>\n",
              "    <path d=\"M18.56 5.44l.94 2.06.94-2.06 2.06-.94-2.06-.94-.94-2.06-.94 2.06-2.06.94zm-11 1L8.5 8.5l.94-2.06 2.06-.94-2.06-.94L8.5 2.5l-.94 2.06-2.06.94zm10 10l.94 2.06.94-2.06 2.06-.94-2.06-.94-.94-2.06-.94 2.06-2.06.94z\"/><path d=\"M17.41 7.96l-1.37-1.37c-.4-.4-.92-.59-1.43-.59-.52 0-1.04.2-1.43.59L10.3 9.45l-7.72 7.72c-.78.78-.78 2.05 0 2.83L4 21.41c.39.39.9.59 1.41.59.51 0 1.02-.2 1.41-.59l7.78-7.78 2.81-2.81c.8-.78.8-2.07 0-2.86zM5.41 20L4 18.59l7.72-7.72 1.47 1.35L5.41 20z\"/>\n",
              "  </svg>\n",
              "      </button>\n",
              "      \n",
              "  <style>\n",
              "    .colab-df-container {\n",
              "      display:flex;\n",
              "      flex-wrap:wrap;\n",
              "      gap: 12px;\n",
              "    }\n",
              "\n",
              "    .colab-df-convert {\n",
              "      background-color: #E8F0FE;\n",
              "      border: none;\n",
              "      border-radius: 50%;\n",
              "      cursor: pointer;\n",
              "      display: none;\n",
              "      fill: #1967D2;\n",
              "      height: 32px;\n",
              "      padding: 0 0 0 0;\n",
              "      width: 32px;\n",
              "    }\n",
              "\n",
              "    .colab-df-convert:hover {\n",
              "      background-color: #E2EBFA;\n",
              "      box-shadow: 0px 1px 2px rgba(60, 64, 67, 0.3), 0px 1px 3px 1px rgba(60, 64, 67, 0.15);\n",
              "      fill: #174EA6;\n",
              "    }\n",
              "\n",
              "    [theme=dark] .colab-df-convert {\n",
              "      background-color: #3B4455;\n",
              "      fill: #D2E3FC;\n",
              "    }\n",
              "\n",
              "    [theme=dark] .colab-df-convert:hover {\n",
              "      background-color: #434B5C;\n",
              "      box-shadow: 0px 1px 3px 1px rgba(0, 0, 0, 0.15);\n",
              "      filter: drop-shadow(0px 1px 2px rgba(0, 0, 0, 0.3));\n",
              "      fill: #FFFFFF;\n",
              "    }\n",
              "  </style>\n",
              "\n",
              "      <script>\n",
              "        const buttonEl =\n",
              "          document.querySelector('#df-086278d4-a2d2-4e7d-9022-3ee68e38e07d button.colab-df-convert');\n",
              "        buttonEl.style.display =\n",
              "          google.colab.kernel.accessAllowed ? 'block' : 'none';\n",
              "\n",
              "        async function convertToInteractive(key) {\n",
              "          const element = document.querySelector('#df-086278d4-a2d2-4e7d-9022-3ee68e38e07d');\n",
              "          const dataTable =\n",
              "            await google.colab.kernel.invokeFunction('convertToInteractive',\n",
              "                                                     [key], {});\n",
              "          if (!dataTable) return;\n",
              "\n",
              "          const docLinkHtml = 'Like what you see? Visit the ' +\n",
              "            '<a target=\"_blank\" href=https://colab.research.google.com/notebooks/data_table.ipynb>data table notebook</a>'\n",
              "            + ' to learn more about interactive tables.';\n",
              "          element.innerHTML = '';\n",
              "          dataTable['output_type'] = 'display_data';\n",
              "          await google.colab.output.renderOutput(dataTable, element);\n",
              "          const docLink = document.createElement('div');\n",
              "          docLink.innerHTML = docLinkHtml;\n",
              "          element.appendChild(docLink);\n",
              "        }\n",
              "      </script>\n",
              "    </div>\n",
              "  </div>\n",
              "  "
            ]
          },
          "metadata": {},
          "execution_count": 75
        }
      ]
    },
    {
      "cell_type": "markdown",
      "source": [
        "Determining my top 5 titles in terms of watchtime\n",
        "\n",
        "---\n",
        "\n"
      ],
      "metadata": {
        "id": "pHucvtru7xfL"
      }
    },
    {
      "cell_type": "code",
      "source": [
        "# converting duration to timedelta format (Pandas measure of time duration)\n",
        "df.duration = pd.to_timedelta(df.duration)"
      ],
      "metadata": {
        "id": "Fiwe8URc1eI7"
      },
      "execution_count": 76,
      "outputs": []
    },
    {
      "cell_type": "code",
      "source": [
        "# the conversion was successful\n",
        "df['duration'].head()"
      ],
      "metadata": {
        "colab": {
          "base_uri": "https://localhost:8080/"
        },
        "id": "CWf7O18y8B1I",
        "outputId": "3e04a8b2-9666-4bd7-f754-22f44a21c415"
      },
      "execution_count": 77,
      "outputs": [
        {
          "output_type": "execute_result",
          "data": {
            "text/plain": [
              "0   0 days 00:08:22\n",
              "1   0 days 00:00:05\n",
              "2   0 days 00:00:55\n",
              "3   0 days 00:13:36\n",
              "4   0 days 00:06:42\n",
              "Name: duration, dtype: timedelta64[ns]"
            ]
          },
          "metadata": {},
          "execution_count": 77
        }
      ]
    },
    {
      "cell_type": "code",
      "source": [
        "# summing up watchtime by title\n",
        "df[['title', 'duration']].groupby('title').sum().sort_values(by='duration', ascending = False).head(5)"
      ],
      "metadata": {
        "colab": {
          "base_uri": "https://localhost:8080/",
          "height": 237
        },
        "id": "gQzCiEvD8GAA",
        "outputId": "c0fcdc76-30f2-4d8a-cd0d-98745b9002c7"
      },
      "execution_count": 78,
      "outputs": [
        {
          "output_type": "execute_result",
          "data": {
            "text/plain": [
              "                                                         duration\n",
              "title                                                            \n",
              "Watchmen                                          0 days 02:35:30\n",
              "The Boss Baby: Get That Baby!                     0 days 02:32:45\n",
              "Unbreakable Kimmy Schmidt: Kimmy vs. the Reverend 0 days 02:26:59\n",
              "Princess Mononoke                                 0 days 02:12:47\n",
              "Green Snake                                       0 days 02:09:36"
            ],
            "text/html": [
              "\n",
              "  <div id=\"df-61549711-5c4b-483f-ad69-51cd1e7652d5\">\n",
              "    <div class=\"colab-df-container\">\n",
              "      <div>\n",
              "<style scoped>\n",
              "    .dataframe tbody tr th:only-of-type {\n",
              "        vertical-align: middle;\n",
              "    }\n",
              "\n",
              "    .dataframe tbody tr th {\n",
              "        vertical-align: top;\n",
              "    }\n",
              "\n",
              "    .dataframe thead th {\n",
              "        text-align: right;\n",
              "    }\n",
              "</style>\n",
              "<table border=\"1\" class=\"dataframe\">\n",
              "  <thead>\n",
              "    <tr style=\"text-align: right;\">\n",
              "      <th></th>\n",
              "      <th>duration</th>\n",
              "    </tr>\n",
              "    <tr>\n",
              "      <th>title</th>\n",
              "      <th></th>\n",
              "    </tr>\n",
              "  </thead>\n",
              "  <tbody>\n",
              "    <tr>\n",
              "      <th>Watchmen</th>\n",
              "      <td>0 days 02:35:30</td>\n",
              "    </tr>\n",
              "    <tr>\n",
              "      <th>The Boss Baby: Get That Baby!</th>\n",
              "      <td>0 days 02:32:45</td>\n",
              "    </tr>\n",
              "    <tr>\n",
              "      <th>Unbreakable Kimmy Schmidt: Kimmy vs. the Reverend</th>\n",
              "      <td>0 days 02:26:59</td>\n",
              "    </tr>\n",
              "    <tr>\n",
              "      <th>Princess Mononoke</th>\n",
              "      <td>0 days 02:12:47</td>\n",
              "    </tr>\n",
              "    <tr>\n",
              "      <th>Green Snake</th>\n",
              "      <td>0 days 02:09:36</td>\n",
              "    </tr>\n",
              "  </tbody>\n",
              "</table>\n",
              "</div>\n",
              "      <button class=\"colab-df-convert\" onclick=\"convertToInteractive('df-61549711-5c4b-483f-ad69-51cd1e7652d5')\"\n",
              "              title=\"Convert this dataframe to an interactive table.\"\n",
              "              style=\"display:none;\">\n",
              "        \n",
              "  <svg xmlns=\"http://www.w3.org/2000/svg\" height=\"24px\"viewBox=\"0 0 24 24\"\n",
              "       width=\"24px\">\n",
              "    <path d=\"M0 0h24v24H0V0z\" fill=\"none\"/>\n",
              "    <path d=\"M18.56 5.44l.94 2.06.94-2.06 2.06-.94-2.06-.94-.94-2.06-.94 2.06-2.06.94zm-11 1L8.5 8.5l.94-2.06 2.06-.94-2.06-.94L8.5 2.5l-.94 2.06-2.06.94zm10 10l.94 2.06.94-2.06 2.06-.94-2.06-.94-.94-2.06-.94 2.06-2.06.94z\"/><path d=\"M17.41 7.96l-1.37-1.37c-.4-.4-.92-.59-1.43-.59-.52 0-1.04.2-1.43.59L10.3 9.45l-7.72 7.72c-.78.78-.78 2.05 0 2.83L4 21.41c.39.39.9.59 1.41.59.51 0 1.02-.2 1.41-.59l7.78-7.78 2.81-2.81c.8-.78.8-2.07 0-2.86zM5.41 20L4 18.59l7.72-7.72 1.47 1.35L5.41 20z\"/>\n",
              "  </svg>\n",
              "      </button>\n",
              "      \n",
              "  <style>\n",
              "    .colab-df-container {\n",
              "      display:flex;\n",
              "      flex-wrap:wrap;\n",
              "      gap: 12px;\n",
              "    }\n",
              "\n",
              "    .colab-df-convert {\n",
              "      background-color: #E8F0FE;\n",
              "      border: none;\n",
              "      border-radius: 50%;\n",
              "      cursor: pointer;\n",
              "      display: none;\n",
              "      fill: #1967D2;\n",
              "      height: 32px;\n",
              "      padding: 0 0 0 0;\n",
              "      width: 32px;\n",
              "    }\n",
              "\n",
              "    .colab-df-convert:hover {\n",
              "      background-color: #E2EBFA;\n",
              "      box-shadow: 0px 1px 2px rgba(60, 64, 67, 0.3), 0px 1px 3px 1px rgba(60, 64, 67, 0.15);\n",
              "      fill: #174EA6;\n",
              "    }\n",
              "\n",
              "    [theme=dark] .colab-df-convert {\n",
              "      background-color: #3B4455;\n",
              "      fill: #D2E3FC;\n",
              "    }\n",
              "\n",
              "    [theme=dark] .colab-df-convert:hover {\n",
              "      background-color: #434B5C;\n",
              "      box-shadow: 0px 1px 3px 1px rgba(0, 0, 0, 0.15);\n",
              "      filter: drop-shadow(0px 1px 2px rgba(0, 0, 0, 0.3));\n",
              "      fill: #FFFFFF;\n",
              "    }\n",
              "  </style>\n",
              "\n",
              "      <script>\n",
              "        const buttonEl =\n",
              "          document.querySelector('#df-61549711-5c4b-483f-ad69-51cd1e7652d5 button.colab-df-convert');\n",
              "        buttonEl.style.display =\n",
              "          google.colab.kernel.accessAllowed ? 'block' : 'none';\n",
              "\n",
              "        async function convertToInteractive(key) {\n",
              "          const element = document.querySelector('#df-61549711-5c4b-483f-ad69-51cd1e7652d5');\n",
              "          const dataTable =\n",
              "            await google.colab.kernel.invokeFunction('convertToInteractive',\n",
              "                                                     [key], {});\n",
              "          if (!dataTable) return;\n",
              "\n",
              "          const docLinkHtml = 'Like what you see? Visit the ' +\n",
              "            '<a target=\"_blank\" href=https://colab.research.google.com/notebooks/data_table.ipynb>data table notebook</a>'\n",
              "            + ' to learn more about interactive tables.';\n",
              "          element.innerHTML = '';\n",
              "          dataTable['output_type'] = 'display_data';\n",
              "          await google.colab.output.renderOutput(dataTable, element);\n",
              "          const docLink = document.createElement('div');\n",
              "          docLink.innerHTML = docLinkHtml;\n",
              "          element.appendChild(docLink);\n",
              "        }\n",
              "      </script>\n",
              "    </div>\n",
              "  </div>\n",
              "  "
            ]
          },
          "metadata": {},
          "execution_count": 78
        }
      ]
    },
    {
      "cell_type": "markdown",
      "source": [
        "In my case, the top titles are movies/films or interactive episodes.\n",
        "\n",
        "Some people may prefer to watch series, so the next few lines of code show how to determine watchtime when consdering a whole series.\n",
        "\n"
      ],
      "metadata": {
        "id": "f-IrMiSM-hmu"
      }
    },
    {
      "cell_type": "code",
      "source": [
        "# example of determining watchtime (duration) of a series in numerical format\n",
        "st = df[df.title.str.contains('Unbreakable Kimmy Schmidt', regex=False)]\n",
        "stduration = st.duration.sum() / pd.Timedelta(hours=1)\n",
        "print(stduration)"
      ],
      "metadata": {
        "colab": {
          "base_uri": "https://localhost:8080/"
        },
        "id": "ammzIjFH-M0Y",
        "outputId": "f5a144e8-ee53-4420-b818-f6c4bdd4f027"
      },
      "execution_count": 79,
      "outputs": [
        {
          "output_type": "stream",
          "name": "stdout",
          "text": [
            "25.43111111111111\n"
          ]
        }
      ]
    },
    {
      "cell_type": "code",
      "source": [
        "# example of determining watchtime (duration) of a series in string format\n",
        "st = df[df.title.str.contains('Unbreakable Kimmy Schmidt', regex=False)]\n",
        "stduration = st.duration.sum()\n",
        "print(stduration)"
      ],
      "metadata": {
        "colab": {
          "base_uri": "https://localhost:8080/"
        },
        "id": "6F8imzgN_PkP",
        "outputId": "8512aba5-251f-40b2-dde4-0baefc136a0c"
      },
      "execution_count": 80,
      "outputs": [
        {
          "output_type": "stream",
          "name": "stdout",
          "text": [
            "1 days 01:25:52\n"
          ]
        }
      ]
    },
    {
      "cell_type": "markdown",
      "source": [
        "Creating functions that automate the determination of watchtime for select series/films"
      ],
      "metadata": {
        "id": "T8rQUB81Lr35"
      }
    },
    {
      "cell_type": "code",
      "source": [
        "# defining a function that determines the watchtime (DURATION) of ANY SERIES or FILM in the dataset in STRING format\n",
        "def string_duration(series):\n",
        "  if not isinstance(series, str):\n",
        "    print('Given input is not a string')\n",
        "  else:\n",
        "    s=df[df.title.str.contains(series, regex=False)]\n",
        "    sduration = s.duration.sum()\n",
        "  return sduration\n"
      ],
      "metadata": {
        "id": "esoyocXe_Sdo"
      },
      "execution_count": 81,
      "outputs": []
    },
    {
      "cell_type": "code",
      "source": [
        "# test on series\n",
        "string_duration('Unbreakable Kimmy Schmidt')"
      ],
      "metadata": {
        "colab": {
          "base_uri": "https://localhost:8080/"
        },
        "id": "zouro8DG_4FC",
        "outputId": "5340ea39-ff83-4d35-a5b6-179c144255a9"
      },
      "execution_count": 82,
      "outputs": [
        {
          "output_type": "execute_result",
          "data": {
            "text/plain": [
              "Timedelta('1 days 01:25:52')"
            ]
          },
          "metadata": {},
          "execution_count": 82
        }
      ]
    },
    {
      "cell_type": "code",
      "source": [
        "# test on a film/movie\n",
        "string_duration('Watchmen')"
      ],
      "metadata": {
        "colab": {
          "base_uri": "https://localhost:8080/"
        },
        "id": "awd5RdTyGkPt",
        "outputId": "9b4a311b-2387-4f05-d03d-da2b17760c2f"
      },
      "execution_count": 83,
      "outputs": [
        {
          "output_type": "execute_result",
          "data": {
            "text/plain": [
              "Timedelta('0 days 02:35:30')"
            ]
          },
          "metadata": {},
          "execution_count": 83
        }
      ]
    },
    {
      "cell_type": "code",
      "source": [
        "# defining a function that determines the watchtime (DURATION) of ANY SERIES or FILM in the dataset in NUMERICAL format\n",
        "def numerical_duration(series):\n",
        "  if not isinstance(series, str):\n",
        "    print('Given input is not a string')\n",
        "  else:\n",
        "    s=df[df.title.str.contains(series, regex=False)]\n",
        "    sduration = s.duration.sum() / pd.Timedelta(hours=1)\n",
        "  return sduration"
      ],
      "metadata": {
        "id": "rE6e4d_FAQ5n"
      },
      "execution_count": 84,
      "outputs": []
    },
    {
      "cell_type": "code",
      "source": [
        "# test on a series \n",
        "numerical_duration('Unbreakable Kimmy Schmidt')"
      ],
      "metadata": {
        "colab": {
          "base_uri": "https://localhost:8080/"
        },
        "id": "TkVQXk__AVxE",
        "outputId": "d7ca129b-763e-4397-a15f-8900fa38a140"
      },
      "execution_count": 85,
      "outputs": [
        {
          "output_type": "execute_result",
          "data": {
            "text/plain": [
              "25.43111111111111"
            ]
          },
          "metadata": {},
          "execution_count": 85
        }
      ]
    },
    {
      "cell_type": "code",
      "source": [
        "# test on a film/movie \n",
        "numerical_duration('Watchmen')"
      ],
      "metadata": {
        "colab": {
          "base_uri": "https://localhost:8080/"
        },
        "id": "2vch__BeGnOC",
        "outputId": "56aa7cda-bf08-41e9-b02c-3ef1ea5d36bb"
      },
      "execution_count": 86,
      "outputs": [
        {
          "output_type": "execute_result",
          "data": {
            "text/plain": [
              "2.591666666666667"
            ]
          },
          "metadata": {},
          "execution_count": 86
        }
      ]
    },
    {
      "cell_type": "code",
      "source": [
        "# defining a function that allows creating a visual plot for ANY NUMBER of SERIES or FILMS\n",
        "def general_plot(series):\n",
        "  if not isinstance(series, list):\n",
        "    print('Given input is not a list')\n",
        "  else:\n",
        "    x=[]\n",
        "    y=[]\n",
        "    for i in series:\n",
        "      x.append(i)\n",
        "      y.append(numerical_duration(i))\n",
        "    sns.set_style('darkgrid')\n",
        "    plt.figure(figsize=(25, 8))\n",
        "    sns.set_context('notebook', font_scale = 1, rc = {'grid.linewidth':2})\n",
        "    plt.bar(x, y, color=['black', 'green', 'maroon', 'blue', 'purple'])\n",
        "    plt.ylabel('Hours watched')\n",
        "    plt.xlabel('Title')\n",
        "    plt.title('Films or series watched for a certain duration')\n",
        "  \n",
        "  return plt.show()"
      ],
      "metadata": {
        "id": "jDGbG4oNA7jk"
      },
      "execution_count": 95,
      "outputs": []
    },
    {
      "cell_type": "code",
      "source": [
        "# test that features a list that includes series and films/movies \n",
        "shows = ['Unbreakable Kimmy Schmidt', 'Titans', 'Princess Mononoke']\n",
        "general_plot(shows)"
      ],
      "metadata": {
        "colab": {
          "base_uri": "https://localhost:8080/",
          "height": 386
        },
        "id": "hSAhpf5cBsC1",
        "outputId": "b5f7541f-25a5-4236-f516-597dcda1b795"
      },
      "execution_count": 96,
      "outputs": [
        {
          "output_type": "display_data",
          "data": {
            "text/plain": [
              "<Figure size 1800x576 with 1 Axes>"
            ],
            "image/png": "[encoded data removed]"
          },
          "metadata": {}
        }
      ]
    },
    {
      "cell_type": "code",
      "source": [],
      "metadata": {
        "id": "23iq_8r6LwRd"
      },
      "execution_count": null,
      "outputs": []
    }
  ]
}